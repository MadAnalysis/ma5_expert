{
 "cells": [
  {
   "cell_type": "markdown",
   "metadata": {},
   "source": [
    "# ATLAS-SUSY-2018-032 Validation"
   ]
  },
  {
   "cell_type": "code",
   "execution_count": 1,
   "metadata": {},
   "outputs": [],
   "source": [
    "from ma5_expert.CutFlowReader import Collection\n",
    "from ma5_expert.CutFlowTable  import CutFlowTable"
   ]
  },
  {
   "cell_type": "markdown",
   "metadata": {},
   "source": [
    "Validation SRs for $m(\\tilde\\chi^{\\pm}_1,\\tilde\\chi^0_1)=(300,50)$ GeV: \n",
    "\n",
    "$\\bullet$ **SR_DF_0J_MT2_100_inf**\n",
    "\n",
    "$\\bullet$ **SR_DF_1J_MT2_100_inf**\n",
    "\n",
    "$\\bullet$ **SR_SF_0J_MT2_100_inf**\n",
    "\n",
    "$\\bullet$ **SR_SF_1J_MT2_100_inf**"
   ]
  },
  {
   "cell_type": "code",
   "execution_count": 2,
   "metadata": {},
   "outputs": [],
   "source": [
    "Ma5 = Collection(collection_path='atlas_susy_2018_32/Output/SAF/smp/atlas_susy_2018_32/Cutflows',\n",
    "                 lumi=1./1000., # overwrite the lumi to set xsec = Nevents\n",
    "                 xsection=793.)"
   ]
  },
  {
   "cell_type": "markdown",
   "metadata": {},
   "source": [
    "Following info is taken from [HEPData Cutflow](https://www.hepdata.net/record/89413?version=1&table=Cutflow1)"
   ]
  },
  {
   "cell_type": "code",
   "execution_count": 3,
   "metadata": {},
   "outputs": [],
   "source": [
    "#26432.,1144.,\n",
    "atlas_presel = [793.,661.,565.,559.,526.]\n",
    "ATLAS = Collection() \n",
    "ATLAS.add_SR('SR_DF_0J_MT2_100_inf',\n",
    "             Ma5['SR_DF_0J_MT2_100_inf'].get_names(),\n",
    "             atlas_presel+[122.7,94.2,46.5,42.2,26.4])\n",
    "ATLAS.add_SR('SR_DF_1J_MT2_100_inf',\n",
    "             Ma5['SR_DF_1J_MT2_100_inf'].get_names(),\n",
    "             atlas_presel+[81.9,62.3,33.8,27.2,15.3])\n",
    "ATLAS.add_SR('SR_SF_0J_MT2_100_inf',\n",
    "             Ma5['SR_SF_0J_MT2_100_inf'].get_names(),\n",
    "             atlas_presel+[138.7,92.4,47.1,42.9,25.4])\n",
    "ATLAS.add_SR('SR_SF_1J_MT2_100_inf',\n",
    "             Ma5['SR_SF_1J_MT2_100_inf'].get_names(),\n",
    "             atlas_presel+[88.8,58.9,32.6,26.9,14.0])"
   ]
  },
  {
   "cell_type": "code",
   "execution_count": 4,
   "metadata": {},
   "outputs": [],
   "source": [
    "table = CutFlowTable(ATLAS,Ma5,sample_names=['ATLAS','Ma5'])"
   ]
  },
  {
   "cell_type": "markdown",
   "metadata": {},
   "source": [
    "Write table to a tex file:"
   ]
  },
  {
   "cell_type": "code",
   "execution_count": 5,
   "metadata": {},
   "outputs": [],
   "source": [
    "table.write_comparison_table(open('ATLAS-SUSY-2018-032.tex','w'))"
   ]
  },
  {
   "cell_type": "markdown",
   "metadata": {},
   "source": [
    "Print tables:"
   ]
  },
  {
   "cell_type": "code",
   "execution_count": 6,
   "metadata": {},
   "outputs": [
    {
     "name": "stdout",
     "output_type": "stream",
     "text": [
      "\n",
      "\n",
      "%% SR_DF_1J_MT2_100_inf\n",
      "\n",
      "\\begin{table}[h]\n",
      "  \\begin{center}\n",
      "  \\renewcommand{\\arraystretch}{1.}\n",
      "    \\begin{tabular}{c||cc|ccc}\n",
      "      & \\multicolumn{2}{c|}{ATLAS} &\\multicolumn{3}{c}{Ma5} \\\\ \\hline\\hline\n",
      "      & Events & $\\varepsilon$ &Events & $\\varepsilon$ & $\\delta$ [\\%]\\\\ \\hline\n",
      "      Presel.                                 & 793.0 & - & 793.0 & - & - \\\\\n",
      "      OS dilepton                             & 661.0 & 0.834 & 393.2 & 0.496 & 40.5\\% \\\\\n",
      "      dilepton pt                             & 565.0 & 0.855 & 333.1 & 0.847 & 0.9\\% \\\\\n",
      "      dilepton mll                            & 559.0 & 0.989 & 329.0 & 0.988 & 0.2\\% \\\\\n",
      "      b veto                                  & 526.0 & 0.941 & 324.6 & 0.986 & -4.8\\% \\\\\n",
      "      Nj=1                                    & 81.9 & 0.156 & 100.7 & 0.310 & -99.3\\% \\\\\n",
      "      DF dilepton                             & 62.3 & 0.761 & 49.7 & 0.493 & 35.2\\% \\\\\n",
      "      Mll > 100 GeV                           & 33.8 & 0.543 & 37.8 & 0.761 & -40.3\\% \\\\\n",
      "      MET > 110 GeV                           & 27.2 & 0.805 & 20.7 & 0.548 & 31.9\\% \\\\\n",
      "      MET sign. > 10                          & 15.3 & 0.562 & 20.1 & 0.971 & -72.6\\% \\\\\n",
      "    \\end{tabular}\n",
      "    \\caption{SR DF 1J MT2 100 inf}\n",
      "  \\end{center}\n",
      "\\end{table}\n",
      "\n",
      "\n",
      "\n",
      "%% SR_SF_0J_MT2_100_inf\n",
      "\n",
      "\\begin{table}[h]\n",
      "  \\begin{center}\n",
      "  \\renewcommand{\\arraystretch}{1.}\n",
      "    \\begin{tabular}{c||cc|ccc}\n",
      "      & \\multicolumn{2}{c|}{ATLAS} &\\multicolumn{3}{c}{Ma5} \\\\ \\hline\\hline\n",
      "      & Events & $\\varepsilon$ &Events & $\\varepsilon$ & $\\delta$ [\\%]\\\\ \\hline\n",
      "      Presel.                                 & 793.0 & - & 793.0 & - & - \\\\\n",
      "      OS dilepton                             & 661.0 & 0.834 & 393.2 & 0.496 & 40.5\\% \\\\\n",
      "      dilepton pt                             & 565.0 & 0.855 & 333.1 & 0.847 & 0.9\\% \\\\\n",
      "      dilepton mll                            & 559.0 & 0.989 & 329.0 & 0.988 & 0.2\\% \\\\\n",
      "      b veto                                  & 526.0 & 0.941 & 324.6 & 0.986 & -4.8\\% \\\\\n",
      "      Nj=0                                    & 138.7 & 0.264 & 161.8 & 0.498 & -89.0\\% \\\\\n",
      "      SF dilepton                             & 92.4 & 0.666 & 83.1 & 0.514 & 22.9\\% \\\\\n",
      "      Mll > 121.2 GeV                         & 47.1 & 0.510 & 54.3 & 0.653 & -28.1\\% \\\\\n",
      "      MET > 110 GeV                           & 42.9 & 0.911 & 25.6 & 0.471 & 48.3\\% \\\\\n",
      "      MET sign. > 10                          & 25.4 & 0.592 & 25.6 & 1.000 & -68.9\\% \\\\\n",
      "    \\end{tabular}\n",
      "    \\caption{SR SF 0J MT2 100 inf}\n",
      "  \\end{center}\n",
      "\\end{table}\n",
      "\n",
      "\n",
      "\n",
      "%% SR_DF_0J_MT2_100_inf\n",
      "\n",
      "\\begin{table}[h]\n",
      "  \\begin{center}\n",
      "  \\renewcommand{\\arraystretch}{1.}\n",
      "    \\begin{tabular}{c||cc|ccc}\n",
      "      & \\multicolumn{2}{c|}{ATLAS} &\\multicolumn{3}{c}{Ma5} \\\\ \\hline\\hline\n",
      "      & Events & $\\varepsilon$ &Events & $\\varepsilon$ & $\\delta$ [\\%]\\\\ \\hline\n",
      "      Presel.                                 & 793.0 & - & 793.0 & - & - \\\\\n",
      "      OS dilepton                             & 661.0 & 0.834 & 393.2 & 0.496 & 40.5\\% \\\\\n",
      "      dilepton pt                             & 565.0 & 0.855 & 333.1 & 0.847 & 0.9\\% \\\\\n",
      "      dilepton mll                            & 559.0 & 0.989 & 329.0 & 0.988 & 0.2\\% \\\\\n",
      "      b veto                                  & 526.0 & 0.941 & 324.6 & 0.986 & -4.8\\% \\\\\n",
      "      Nj=0                                    & 122.7 & 0.233 & 161.8 & 0.498 & -113.7\\% \\\\\n",
      "      DF dilepton                             & 94.2 & 0.768 & 78.7 & 0.486 & 36.7\\% \\\\\n",
      "      Mll > 100 GeV                           & 46.5 & 0.494 & 59.9 & 0.762 & -54.3\\% \\\\\n",
      "      MET > 110 GeV                           & 42.2 & 0.908 & 27.4 & 0.457 & 49.7\\% \\\\\n",
      "      MET sign. > 10                          & 26.4 & 0.626 & 27.4 & 1.000 & -59.8\\% \\\\\n",
      "    \\end{tabular}\n",
      "    \\caption{SR DF 0J MT2 100 inf}\n",
      "  \\end{center}\n",
      "\\end{table}\n",
      "\n",
      "\n",
      "\n",
      "%% SR_SF_1J_MT2_100_inf\n",
      "\n",
      "\\begin{table}[h]\n",
      "  \\begin{center}\n",
      "  \\renewcommand{\\arraystretch}{1.}\n",
      "    \\begin{tabular}{c||cc|ccc}\n",
      "      & \\multicolumn{2}{c|}{ATLAS} &\\multicolumn{3}{c}{Ma5} \\\\ \\hline\\hline\n",
      "      & Events & $\\varepsilon$ &Events & $\\varepsilon$ & $\\delta$ [\\%]\\\\ \\hline\n",
      "      Presel.                                 & 793.0 & - & 793.0 & - & - \\\\\n",
      "      OS dilepton                             & 661.0 & 0.834 & 393.2 & 0.496 & 40.5\\% \\\\\n",
      "      dilepton pt                             & 565.0 & 0.855 & 333.1 & 0.847 & 0.9\\% \\\\\n",
      "      dilepton mll                            & 559.0 & 0.989 & 329.0 & 0.988 & 0.2\\% \\\\\n",
      "      b veto                                  & 526.0 & 0.941 & 324.6 & 0.986 & -4.8\\% \\\\\n",
      "      Nj=1                                    & 88.8 & 0.169 & 100.7 & 0.310 & -83.8\\% \\\\\n",
      "      SF dilepton                             & 58.9 & 0.663 & 51.1 & 0.507 & 23.6\\% \\\\\n",
      "      Mll > 121.2 GeV                         & 32.6 & 0.553 & 33.1 & 0.647 & -17.0\\% \\\\\n",
      "      MET > 110 GeV                           & 26.9 & 0.825 & 18.2 & 0.550 & 33.4\\% \\\\\n",
      "      MET sign. > 10                          & 14.0 & 0.520 & 17.6 & 0.970 & -86.5\\% \\\\\n",
      "    \\end{tabular}\n",
      "    \\caption{SR SF 1J MT2 100 inf}\n",
      "  \\end{center}\n",
      "\\end{table}\n",
      "\n"
     ]
    }
   ],
   "source": [
    "table.write_comparison_table() "
   ]
  },
  {
   "cell_type": "code",
   "execution_count": null,
   "metadata": {},
   "outputs": [],
   "source": []
  }
 ],
 "metadata": {
  "kernelspec": {
   "display_name": "Python 2",
   "language": "python",
   "name": "python2"
  },
  "language_info": {
   "codemirror_mode": {
    "name": "ipython",
    "version": 2
   },
   "file_extension": ".py",
   "mimetype": "text/x-python",
   "name": "python",
   "nbconvert_exporter": "python",
   "pygments_lexer": "ipython2",
   "version": "2.7.16"
  }
 },
 "nbformat": 4,
 "nbformat_minor": 2
}
