{
 "cells": [
  {
   "cell_type": "markdown",
   "id": "f42b7551-6db1-48a3-8864-f5ccc9c36373",
   "metadata": {},
   "source": [
    "# Compute exclusion limits"
   ]
  },
  {
   "cell_type": "code",
   "execution_count": 1,
   "id": "f38dd397-071b-4596-be32-8ccfebfa1d8f",
   "metadata": {},
   "outputs": [],
   "source": [
    "import ma5_expert as ma5"
   ]
  },
  {
   "cell_type": "markdown",
   "id": "bff7b4e8-529c-4a41-833c-d835a9926a26",
   "metadata": {},
   "source": [
    "Set MadAnalysis 5 backend"
   ]
  },
  {
   "cell_type": "code",
   "execution_count": 2,
   "id": "7ecf7cde-3d4e-48d6-97cc-5a1bc463e14a",
   "metadata": {},
   "outputs": [
    {
     "name": "stderr",
     "output_type": "stream",
     "text": [
      "\u001b[35m Ma5 Expert - WARNING: gnuplot disabled. Plots in gnuplot format file will not be produced.\u001b[0m\n"
     ]
    }
   ],
   "source": [
    "ma5.BackendManager.set_madanalysis_backend(\"/Users/jackaraz/dev/MadAnalysis/madanalysis5\")"
   ]
  },
  {
   "cell_type": "markdown",
   "id": "53abe31d-6ab2-4904-8caa-e771c3ded82d",
   "metadata": {},
   "source": [
    "Initialize PAD interface"
   ]
  },
  {
   "cell_type": "code",
   "execution_count": 5,
   "id": "262a2442-a28b-4315-901a-ffe606aecbb6",
   "metadata": {},
   "outputs": [],
   "source": [
    "interface = ma5.pad.PADInterface(\n",
    "    sample_path= \"/Users/jackaraz/dev/MadAnalysis/ma5_expert/docs/examples/mass1000005_300.0_mass1000022_60.0_mass1000023_250.0_xs_5.689\",\n",
    "    dataset_name=\"defaultset\"\n",
    ")"
   ]
  },
  {
   "cell_type": "markdown",
   "id": "7d0901bd-bd44-4867-a9c3-5c36dea73300",
   "metadata": {},
   "source": [
    "Compute the limits"
   ]
  },
  {
   "cell_type": "code",
   "execution_count": 6,
   "id": "949251c7-a354-448e-8dd7-8a6deda2311b",
   "metadata": {},
   "outputs": [],
   "source": [
    "results = interface.compute_exclusion(\"atlas_susy_2018_31\", 5.689, ma5.backend.PADType.PADForSFS)"
   ]
  },
  {
   "cell_type": "code",
   "execution_count": 8,
   "id": "cce6fddd-a7db-4742-9fe3-15750bdd94e1",
   "metadata": {},
   "outputs": [
    {
     "name": "stdout",
     "output_type": "stream",
     "text": [
      "Best Signal Region: SRB\n",
      "{'nobs': 3.0, 'nb': 3.3, 'deltanb': 0.78032045, 'N0': 22.77976, 'Nf': 0.001708529, 's95exp': '0.5243934', 'rSR': 10.848725403485247, 'CLs': 1.0, 'best': 1, 's95obs': '0.5217926'}\n"
     ]
    }
   ],
   "source": [
    "for srname, result in results.items():\n",
    "    if result.get(\"best\", 0):\n",
    "        print(f\"Best Signal Region: {srname}\")\n",
    "        print(result)"
   ]
  },
  {
   "cell_type": "code",
   "execution_count": null,
   "id": "f4dc74e1-301c-4744-beae-011fa679c4a6",
   "metadata": {},
   "outputs": [],
   "source": []
  }
 ],
 "metadata": {
  "kernelspec": {
   "display_name": "Python 3 (ipykernel)",
   "language": "python",
   "name": "python3"
  },
  "language_info": {
   "codemirror_mode": {
    "name": "ipython",
    "version": 3
   },
   "file_extension": ".py",
   "mimetype": "text/x-python",
   "name": "python",
   "nbconvert_exporter": "python",
   "pygments_lexer": "ipython3",
   "version": "3.9.10"
  }
 },
 "nbformat": 4,
 "nbformat_minor": 5
}
