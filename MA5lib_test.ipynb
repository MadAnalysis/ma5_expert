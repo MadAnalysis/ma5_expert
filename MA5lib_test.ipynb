{
 "cells": [
  {
   "cell_type": "code",
   "execution_count": 10,
   "metadata": {},
   "outputs": [],
   "source": [
    "from MA5lib.MA5_SafReader import *"
   ]
  },
  {
   "cell_type": "code",
   "execution_count": 11,
   "metadata": {},
   "outputs": [],
   "source": [
    "saf = SAF(saf_file='../test/ma5_tests/_ttbar.saf')"
   ]
  },
  {
   "cell_type": "code",
   "execution_count": 12,
   "metadata": {},
   "outputs": [
    {
     "data": {
      "text/plain": [
       "0.5961289"
      ]
     },
     "execution_count": 12,
     "metadata": {},
     "output_type": "execute_result"
    }
   ],
   "source": [
    "saf.xsection"
   ]
  },
  {
   "cell_type": "code",
   "execution_count": 13,
   "metadata": {},
   "outputs": [
    {
     "data": {
      "text/plain": [
       "{'Nevents': 2600000, 'sumw': 1.841609, 'xsec': 0.5961289}"
      ]
     },
     "execution_count": 13,
     "metadata": {},
     "output_type": "execute_result"
    }
   ],
   "source": [
    "saf.SampleGlobalInfo"
   ]
  },
  {
   "cell_type": "code",
   "execution_count": 14,
   "metadata": {},
   "outputs": [
    {
     "data": {
      "text/plain": [
       "0.5961289"
      ]
     },
     "execution_count": 14,
     "metadata": {},
     "output_type": "execute_result"
    }
   ],
   "source": [
    "saf.xsec"
   ]
  },
  {
   "cell_type": "code",
   "execution_count": 15,
   "metadata": {},
   "outputs": [
    {
     "data": {
      "text/plain": [
       "{0: {'Nevents': 1000000, 'sumw': 1.214561, 'xsec': 1.214561},\n",
       " 1: {'Nevents': 100000, 'sumw': 0.2080878, 'xsec': 0.2080878},\n",
       " 2: {'Nevents': 1000000, 'sumw': 0.2101702, 'xsec': 0.2101702},\n",
       " 3: {'Nevents': 500000, 'sumw': 0.2087903, 'xsec': 0.2087903}}"
      ]
     },
     "execution_count": 15,
     "metadata": {},
     "output_type": "execute_result"
    }
   ],
   "source": [
    "saf.SampleDetailedInfo"
   ]
  },
  {
   "cell_type": "code",
   "execution_count": 16,
   "metadata": {},
   "outputs": [
    {
     "data": {
      "text/plain": [
       "['/mt/batch/jaraz/MG5_aMC_v2_6_5/BKG_ttbar_leptonic1/Events/run_01/tag_1_pythia8_events.hepmc.gz',\n",
       " '/mt/batch/jaraz/MG5_aMC_v2_6_5/BKG_ttbar_leptonic1/Events/run_03/tag_1_pythia8_events.hepmc.gz',\n",
       " '/mt/batch/jaraz/MG5_aMC_v2_6_5/BKG_ttbar_leptonic2/Events/run_02/tag_1_pythia8_events.hepmc.gz',\n",
       " '/mt/batch/jaraz/MG5_aMC_v2_6_5/BKG_ttbar_leptonic2/Events/run_03/tag_1_pythia8_events.hepmc.gz']"
      ]
     },
     "execution_count": 16,
     "metadata": {},
     "output_type": "execute_result"
    }
   ],
   "source": [
    "saf.FileInfo"
   ]
  },
  {
   "cell_type": "code",
   "execution_count": 17,
   "metadata": {},
   "outputs": [],
   "source": [
    "from MA5lib.MA5_CutReader import *"
   ]
  },
  {
   "cell_type": "code",
   "execution_count": 22,
   "metadata": {},
   "outputs": [],
   "source": [
    "collection = SR_collection(SR_collection_path='CutFlow', collection_name='atlas_susy_2018_031')"
   ]
  },
  {
   "cell_type": "code",
   "execution_count": 23,
   "metadata": {},
   "outputs": [
    {
     "data": {
      "text/plain": [
       "['SRC_28',\n",
       " 'SRA_M',\n",
       " 'SRA_L',\n",
       " 'SRA_H',\n",
       " 'SRA',\n",
       " 'SRC',\n",
       " 'SRB',\n",
       " 'SRC_26',\n",
       " 'SRC_24',\n",
       " 'SRC_22']"
      ]
     },
     "execution_count": 23,
     "metadata": {},
     "output_type": "execute_result"
    }
   ],
   "source": [
    "collection.SRlist"
   ]
  },
  {
   "cell_type": "code",
   "execution_count": 27,
   "metadata": {
    "scrolled": false
   },
   "outputs": [
    {
     "name": "stdout",
     "output_type": "stream",
     "text": [
      "============\n",
      "Presel.\n",
      "Nentries:  8225\n",
      "Nevents :  1.0\n",
      "Cut Eff :  1.0\n",
      "Rel Eff :  1.0\n",
      "============\n",
      "$\\slashed{E}_T$ trigger\n",
      "Nentries:  7239\n",
      "Nevents :  0.88\n",
      "Cut Eff :  0.88012\n",
      "Rel Eff :  0.88012\n",
      "============\n",
      "$N_{lep} = 0$\n",
      "Nentries:  6515\n",
      "Nevents :  0.792\n",
      "Cut Eff :  0.7921\n",
      "Rel Eff :  0.89999\n",
      "============\n",
      "$N_{j} \\geq 6$\n",
      "Nentries:  5223\n",
      "Nevents :  0.635\n",
      "Cut Eff :  0.63502\n",
      "Rel Eff :  0.80169\n",
      "============\n",
      "$N_{b} \\geq 4$\n",
      "Nentries:  2069\n",
      "Nevents :  0.252\n",
      "Cut Eff :  0.25155\n",
      "Rel Eff :  0.39613\n",
      "============\n",
      "$\\slashed{E}_T > 350$\n",
      "Nentries:  870\n",
      "Nevents :  0.106\n",
      "Cut Eff :  0.10578\n",
      "Rel Eff :  0.42049\n",
      "============\n",
      "$min(\\Delta\\phi(j_{1-4},\\slashed{E}_T))>0.4$ [rad]\n",
      "Nentries:  417\n",
      "Nevents :  0.051\n",
      "Cut Eff :  0.0507\n",
      "Rel Eff :  0.47931\n",
      "============\n",
      "$\\tau^h$ veto\n",
      "Nentries:  390\n",
      "Nevents :  0.047\n",
      "Cut Eff :  0.04742\n",
      "Rel Eff :  0.93525\n",
      "============\n",
      "$p^{b_1}_T > 200$ [GeV]\n",
      "Nentries:  351\n",
      "Nevents :  0.043\n",
      "Cut Eff :  0.04267\n",
      "Rel Eff :  0.9\n",
      "============\n",
      "$\\Delta R_{max}(b,b)>2.5$\n",
      "Nentries:  335\n",
      "Nevents :  0.041\n",
      "Cut Eff :  0.04073\n",
      "Rel Eff :  0.95442\n",
      "============\n",
      "$\\Delta R_{max-min}(b,b)<2.5$\n",
      "Nentries:  326\n",
      "Nevents :  0.04\n",
      "Cut Eff :  0.03964\n",
      "Rel Eff :  0.97313\n",
      "============\n",
      "$m(h_{cand})>80$ [GeV]\n",
      "Nentries:  256\n",
      "Nevents :  0.031\n",
      "Cut Eff :  0.03112\n",
      "Rel Eff :  0.78528\n",
      "============\n",
      "$m_{eff} > 1$ [TeV]\n",
      "Nentries:  256\n",
      "Nevents :  0.031\n",
      "Cut Eff :  0.03112\n",
      "Rel Eff :  1.0\n"
     ]
    }
   ],
   "source": [
    "collection.SRA.Print()"
   ]
  },
  {
   "cell_type": "code",
   "execution_count": null,
   "metadata": {},
   "outputs": [],
   "source": []
  }
 ],
 "metadata": {
  "kernelspec": {
   "display_name": "Python 2",
   "language": "python",
   "name": "python2"
  },
  "language_info": {
   "codemirror_mode": {
    "name": "ipython",
    "version": 2
   },
   "file_extension": ".py",
   "mimetype": "text/x-python",
   "name": "python",
   "nbconvert_exporter": "python",
   "pygments_lexer": "ipython2",
   "version": "2.7.16"
  }
 },
 "nbformat": 4,
 "nbformat_minor": 2
}
